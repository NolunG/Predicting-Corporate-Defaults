{
 "cells": [
  {
   "cell_type": "code",
   "execution_count": 216,
   "metadata": {},
   "outputs": [],
   "source": [
    "import pandas as pd\n",
    "import numpy as np\n",
    "from sklearn.linear_model import LogisticRegression,LassoCV, Lasso, Ridge\n",
    "from sklearn import metrics\n",
    "from sklearn.metrics import accuracy_score,precision_score,recall_score,confusion_matrix,roc_curve, roc_auc_score,auc,mean_squared_error\n",
    "import seaborn as sns\n",
    "from sklearn.neighbors import KNeighborsClassifier\n",
    "import matplotlib.pyplot as plt\n",
    "from sklearn.ensemble import RandomForestClassifier\n",
    "from sklearn.model_selection import GridSearchCV\n"
   ]
  },
  {
   "cell_type": "code",
   "execution_count": 68,
   "metadata": {},
   "outputs": [],
   "source": [
    "import warnings\n",
    "warnings.filterwarnings(\"ignore\")"
   ]
  },
  {
   "cell_type": "markdown",
   "metadata": {},
   "source": [
    "#### We will use both Compustat and CSRP to create explanatory variables\n",
    "The following code has been run once in Spyder as Jupyter is very slow in loading and processing data, the results was saved in a csv and then read here to run the models"
   ]
  },
  {
   "cell_type": "markdown",
   "metadata": {},
   "source": [
    "#### Loading and tidying up CSRP Daily Data"
   ]
  },
  {
   "cell_type": "code",
   "execution_count": null,
   "metadata": {},
   "outputs": [],
   "source": [
    "path = \"Q:\\\\Data-ReadOnly\\\\CRSP\\\\\"\n",
    "cols_from_csrp = [\"DATE\",\"CUSIP\",\"PERMNO\",\"SHRCD\",\"RET\",\"PRC\",\"SHROUT\"]\n",
    "csrp_daily=pd.read_csv(path+\"dsf_new.csv\",usecols = cols_from_csrp)\n",
    "csrp_daily = dsf\n",
    "csrp_daily['RET']= pd.to_numeric(csrp_daily.RET, errors='coerce')\n",
    "csrp_daily['PRC'] = abs(csrp_daily.PRC)\n",
    "csrp_daily = csrp_daily[csrp_daily.SHRCD.isin([10, 11])]\n",
    "csrp_daily=csrp_daily.drop(\"SHRCD\",axis=1)\n",
    "csrp_daily['CUSIP'] = csrp_daily['CUSIP'].str[0:6]\n",
    "csrp_daily['DATE'] =pd.to_datetime(csrp_daily.DATE,format=\"%Y%m%d\")\n",
    "csrp_daily['YEAR'] = pd.DatetimeIndex(csrp_daily['DATE']).year\n",
    "csrp_daily['Market_Cap'] = csrp_daily.PRC*csrp_daily.SHROUT\n",
    "\n",
    "vol = (csrp_daily.groupby(by=['CUSIP','PERMNO','YEAR'])['RET'].std()*np.sqrt(250)).to_frame().reset_index()\n",
    "vol.columns = ['CUSIP','PERMNO','YEAR','sigmaE']\n",
    "vol.head()\n",
    "\n",
    "annual_ret = csrp_daily.groupby(by=['CUSIP','PERMNO','YEAR']).apply(lambda x:np.exp(np.sum(np.log(1+x['RET'])))).to_frame().reset_index()\n",
    "annual_ret.columns = ['CUSIP','PERMNO','YEAR','RET']\n",
    "\n",
    "market_cap = csrp_daily.groupby(by=['CUSIP','PERMNO','YEAR'])['Market_Cap'].first().to_frame().reset_index()\n",
    "market_cap.columns = ['CUSIP','PERMNO','YEAR','Market_Cap']\n",
    "market_cap.head()\n",
    "\n",
    "csrp_annual = vol.merge(annual_ret,how='inner',on=['CUSIP','PERMNO','YEAR']).merge(market_cap,how='inner',on=['CUSIP','PERMNO','YEAR'])\n",
    "del vol\n",
    "del annual_ret\n",
    "del market_cap\n",
    "\n",
    "funda_data,meta = pd.read_sas(path+\"Assignment_4/funda.sas7bdat\",usecols=comp_cols)\n",
    "funda_data['CUSIP'] = funda_data['cusip'].str[0:6]\n",
    "funda_data['DLC'] = funda_data['dlc'] * 1000000\n",
    "funda_data['DLTT'] = funda_data['dltt'] * 1000000\n",
    "funda_data = funda_data[(funda_data.indfmt == 'INDL') & (funda_data.datafmt == 'STD') & (funda_data.popsrc == 'D') & (funda_data.fic == 'USA') & (funda_data.consol == 'C')]\n",
    "funda_data['F'] = funda_data['DLC'] + 0.5*funda_data['DLTT']\n",
    "funda_data.head()\n",
    "\n",
    "funda_data['Profitability'] = funda_data['ni']/funda_data['at']\n",
    "funda_data['Profitability'].replace([np.inf, -np.inf], np.nan, inplace=True)\n",
    "\n",
    "funda_data['Tangibility'] = funda_data['ppent']/funda_data['at']\n",
    "funda_data['Tangibility'].replace([np.inf, -np.inf], np.nan, inplace=True)\n",
    "\n",
    "funda_data['Intangibility'] = funda_data['intan']/funda_data['at']\n",
    "funda_data['Intangibility'].replace([np.inf, -np.inf], np.nan, inplace=True)\n",
    "\n",
    "funda_data['M2BRatio'] = funda_data['mkvalt']/funda_data['at']\n",
    "funda_data['M2BRatio'].replace([np.inf, -np.inf], np.nan, inplace=True)\n",
    "\n",
    "funda_data['Debt2AssetRatio'] = funda_data['lt']/funda_data['at']\n",
    "funda_data['Debt2AssetRatio'].replace([np.inf, -np.inf], np.nan, inplace=True)\n",
    "\n",
    "funda_data['CurrentRatio'] = funda_data['lct']/funda_data['act']\n",
    "funda_data['CurrentRatio'].replace([np.inf, -np.inf], np.nan, inplace=True)`\n",
    "\n",
    "funda_data['Interest_burden'] = (funda_data['oiadp']-funda_data['xint'])/funda_data['oiadp']\n",
    "final_data['Interest_burden'] = final_data['Int_burden']/final_data['at']\n",
    "funda_data['Interest_burden'].replace([np.inf, -np.inf], np.nan, inplace=True)\n",
    "\n",
    "funda_data['Leverage'] = funda_data['lct']/funda_data['at']\n",
    "funda_data['Leverage'].replace([np.inf, -np.inf], np.nan, inplace=True)\n",
    "\n",
    "final_data['Working_Cap'] = final_data['wcapc']/final_data['at']\n",
    "funda_data['Working_Cap'].replace([np.inf, -np.inf], np.nan, inplace=True)\n",
    "\n",
    "fred_baaffm = pd.read_csv(path+'BAAFFM.csv', header = 0)\n",
    "\n",
    "fred_baaffm['DATE'] = pd.to_datetime(fred_baaffm['DATE'])\n",
    "fred_baaffm['DATE'] = pd.DatetimeIndex(fred_baaffm['DATE']).year\n",
    "fred_baaffm = (fred_baaffm.groupby(['DATE'], as_index=False).mean().groupby('DATE')['BAAFFM'].mean())\n",
    "fred_baaffm = fred_baaffm.reset_index()\n",
    "fred_baaffm = fred_baaffm.rename(columns= {\"DATE\":\"fyear\"})\n",
    "fred_baaffm.head()\n",
    "\n",
    "rf_daily = pd.read_csv(path+\"DTB3.csv\")\n",
    "\n",
    "rf_daily.columns = rf_daily.columns.str.strip().str.lower()\n",
    "rf_daily[\"date\"] = pd.to_datetime(rf_daily[\"date\"])\n",
    "rf_daily[\"dtb3\"] = pd.to_numeric(rf_daily[\"dtb3\"], errors='coerce')\n",
    "rf_daily = rf_daily.dropna(subset = [\"date\",\"dtb3\"]).reset_index(drop = True)\n",
    "rf_daily[\"fyear\"] = rf_daily[\"date\"].dt.year\n",
    "rf_daily[\"r\"] = np.log(1+rf_daily[\"dtb3\"]/100.0) \n",
    "rf_yearly = rf_daily.groupby(by = \"fyear\")[\"r\"].first()\n",
    "\n",
    "funda_data = funda_data.merge(fred_baaffm,how='inner',on=['fyear']).merge(rf_daily,how='inner',on=['fyear'])\n",
    "\n",
    "funda_data = funda_data[[\"FYEAR\",\"CUSIP\",\"Market_Cap\",\"vol\",\"rf\",\"BAAFFM\",\"Profitability\",\"Tangibility\",\"Intangibility\",\n",
    "                         \"M2BRatio\",\"Debt2AssetRatio\",\"CurrentRatio\",\"Working_Cap\",\"Leverage\"]]\n",
    "funda_data['fyear'] = pd.to_numeric(funda_data.YEAR)\n",
    "\n",
    "bankruptcy_data = pd.read_csv(\"BR1964_2019.csv\")\n",
    "bankruptcy_data['YEAR'] = pd.DatetimeIndex(bankruptcy_data['bankruptcy_dt']).year\n",
    "bankruptcy_data['Bankruptcy'] = 1\n",
    "bankruptcy_data = bankruptcy_data.dropna().drop(columns = ['bankruptcy_dt'])\n",
    "bankruptcy_data['YEAR']= bankruptcy_data['YEAR']-1\n",
    "bankruptcy_data.head()\n",
    "\n",
    "funda_data['YEAR'] = funda_data['fyear']\n",
    "data_to_train = csrp_annual.merge(funda_data,how='inner',on=['CUSIP','YEAR'])\n",
    "data_to_train['YEAR']= data_to_train.groupby(by=['CUSIP','PERMNO']).YEAR.shift(-1)\n",
    "data_to_train = data_to_train.merge(br_data,how='left',on=['PERMNO','YEAR'])\n",
    "data_to_train['Bankruptcy'] = data_to_train.Bankruptcy.fillna(0)\n",
    "data_to_train.dropna(how='all', axis=1, inplace=True)\n",
    "\n",
    "\n",
    "data_to_train.to_csv(path+\"data_to_train2.csv\",index=False)"
   ]
  },
  {
   "cell_type": "markdown",
   "metadata": {},
   "source": [
    "Saving the dataset so that we don't have to process all of these again"
   ]
  },
  {
   "cell_type": "code",
   "execution_count": 80,
   "metadata": {},
   "outputs": [],
   "source": [
    "def plot_matrix_and_print_metrics(y_test, pred_test):    \n",
    "    \n",
    "    con_mat = confusion_matrix(y_test, pred_test)\n",
    "    con_mat = pd.DataFrame(con_mat, range(2), range(2))\n",
    "   \n",
    "    plt.figure(figsize=(4,4)) \n",
    "    sns.heatmap(con_mat, annot=True, annot_kws={\"size\": 12}, fmt='g',cmap='Reds')\n",
    "    \n",
    "    print(\"Accuracy:\", metrics.accuracy_score(y_test, pred_test))\n",
    "    print(\"Precision:\", metrics.precision_score(y_test, pred_test))\n",
    "    print(\"ROC score:\", metrics.roc_auc_score(y_test, pred_test))"
   ]
  },
  {
   "cell_type": "code",
   "execution_count": 109,
   "metadata": {},
   "outputs": [
    {
     "data": {
      "text/html": [
       "<div>\n",
       "<style scoped>\n",
       "    .dataframe tbody tr th:only-of-type {\n",
       "        vertical-align: middle;\n",
       "    }\n",
       "\n",
       "    .dataframe tbody tr th {\n",
       "        vertical-align: top;\n",
       "    }\n",
       "\n",
       "    .dataframe thead th {\n",
       "        text-align: right;\n",
       "    }\n",
       "</style>\n",
       "<table border=\"1\" class=\"dataframe\">\n",
       "  <thead>\n",
       "    <tr style=\"text-align: right;\">\n",
       "      <th></th>\n",
       "      <th>YEAR</th>\n",
       "      <th>CUSIP</th>\n",
       "      <th>RET</th>\n",
       "      <th>Market_Cap</th>\n",
       "      <th>vol</th>\n",
       "      <th>rf</th>\n",
       "      <th>BAAFFM</th>\n",
       "      <th>Profitability</th>\n",
       "      <th>Tangibility</th>\n",
       "      <th>Intangibility</th>\n",
       "      <th>M2BRatio</th>\n",
       "      <th>Debt2AssetRatio</th>\n",
       "      <th>CurrentRatio</th>\n",
       "      <th>Leverage</th>\n",
       "      <th>Bankruptcy</th>\n",
       "    </tr>\n",
       "    <tr>\n",
       "      <th>Unnamed: 0</th>\n",
       "      <th></th>\n",
       "      <th></th>\n",
       "      <th></th>\n",
       "      <th></th>\n",
       "      <th></th>\n",
       "      <th></th>\n",
       "      <th></th>\n",
       "      <th></th>\n",
       "      <th></th>\n",
       "      <th></th>\n",
       "      <th></th>\n",
       "      <th></th>\n",
       "      <th></th>\n",
       "      <th></th>\n",
       "      <th></th>\n",
       "    </tr>\n",
       "  </thead>\n",
       "  <tbody>\n",
       "    <tr>\n",
       "      <th>0</th>\n",
       "      <td>1965</td>\n",
       "      <td>19519</td>\n",
       "      <td>1.374766</td>\n",
       "      <td>1.908501e+08</td>\n",
       "      <td>0.146066</td>\n",
       "      <td>0.034691</td>\n",
       "      <td>1.331667</td>\n",
       "      <td>0.042877377</td>\n",
       "      <td>0.188402</td>\n",
       "      <td>0.0</td>\n",
       "      <td>NaN</td>\n",
       "      <td>0.458317</td>\n",
       "      <td>0.305254</td>\n",
       "      <td>0.304852</td>\n",
       "      <td>0</td>\n",
       "    </tr>\n",
       "    <tr>\n",
       "      <th>1</th>\n",
       "      <td>1965</td>\n",
       "      <td>19645</td>\n",
       "      <td>1.284818</td>\n",
       "      <td>1.731587e+08</td>\n",
       "      <td>0.257583</td>\n",
       "      <td>0.034691</td>\n",
       "      <td>1.331667</td>\n",
       "      <td>0.023066756</td>\n",
       "      <td>0.213418</td>\n",
       "      <td>0.0</td>\n",
       "      <td>0.008626</td>\n",
       "      <td>0.455545</td>\n",
       "      <td>0.367455</td>\n",
       "      <td>0.329088</td>\n",
       "      <td>0</td>\n",
       "    </tr>\n",
       "    <tr>\n",
       "      <th>2</th>\n",
       "      <td>1965</td>\n",
       "      <td>02376R</td>\n",
       "      <td>1.330491</td>\n",
       "      <td>3.670997e+08</td>\n",
       "      <td>0.263749</td>\n",
       "      <td>0.034691</td>\n",
       "      <td>1.331667</td>\n",
       "      <td>0.046394176</td>\n",
       "      <td>0.670889</td>\n",
       "      <td>0.0</td>\n",
       "      <td>13.285097</td>\n",
       "      <td>0.738711</td>\n",
       "      <td>0.613548</td>\n",
       "      <td>0.621773</td>\n",
       "      <td>0</td>\n",
       "    </tr>\n",
       "    <tr>\n",
       "      <th>3</th>\n",
       "      <td>1965</td>\n",
       "      <td>24375</td>\n",
       "      <td>1.107488</td>\n",
       "      <td>3.020528e+07</td>\n",
       "      <td>0.193071</td>\n",
       "      <td>0.034691</td>\n",
       "      <td>1.331667</td>\n",
       "      <td>0.069207317</td>\n",
       "      <td>0.362805</td>\n",
       "      <td>0.0</td>\n",
       "      <td>NaN</td>\n",
       "      <td>NaN</td>\n",
       "      <td>0.323529</td>\n",
       "      <td>NaN</td>\n",
       "      <td>0</td>\n",
       "    </tr>\n",
       "    <tr>\n",
       "      <th>4</th>\n",
       "      <td>1965</td>\n",
       "      <td>29609</td>\n",
       "      <td>1.181918</td>\n",
       "      <td>7.046696e+06</td>\n",
       "      <td>0.282748</td>\n",
       "      <td>0.034691</td>\n",
       "      <td>1.331667</td>\n",
       "      <td>0.026141304</td>\n",
       "      <td>0.413043</td>\n",
       "      <td>0.0</td>\n",
       "      <td>NaN</td>\n",
       "      <td>0.389946</td>\n",
       "      <td>0.673267</td>\n",
       "      <td>0.161521</td>\n",
       "      <td>0</td>\n",
       "    </tr>\n",
       "  </tbody>\n",
       "</table>\n",
       "</div>"
      ],
      "text/plain": [
       "            YEAR   CUSIP       RET    Market_Cap       vol        rf  \\\n",
       "Unnamed: 0                                                             \n",
       "0           1965   19519  1.374766  1.908501e+08  0.146066  0.034691   \n",
       "1           1965   19645  1.284818  1.731587e+08  0.257583  0.034691   \n",
       "2           1965  02376R  1.330491  3.670997e+08  0.263749  0.034691   \n",
       "3           1965   24375  1.107488  3.020528e+07  0.193071  0.034691   \n",
       "4           1965   29609  1.181918  7.046696e+06  0.282748  0.034691   \n",
       "\n",
       "              BAAFFM Profitability  Tangibility  Intangibility   M2BRatio  \\\n",
       "Unnamed: 0                                                                  \n",
       "0           1.331667   0.042877377     0.188402            0.0        NaN   \n",
       "1           1.331667   0.023066756     0.213418            0.0   0.008626   \n",
       "2           1.331667   0.046394176     0.670889            0.0  13.285097   \n",
       "3           1.331667   0.069207317     0.362805            0.0        NaN   \n",
       "4           1.331667   0.026141304     0.413043            0.0        NaN   \n",
       "\n",
       "            Debt2AssetRatio  CurrentRatio  Leverage  Bankruptcy  \n",
       "Unnamed: 0                                                       \n",
       "0                  0.458317      0.305254  0.304852           0  \n",
       "1                  0.455545      0.367455  0.329088           0  \n",
       "2                  0.738711      0.613548  0.621773           0  \n",
       "3                       NaN      0.323529       NaN           0  \n",
       "4                  0.389946      0.673267  0.161521           0  "
      ]
     },
     "execution_count": 109,
     "metadata": {},
     "output_type": "execute_result"
    }
   ],
   "source": [
    "data_to_train = pd.read_csv('C:\\\\Users\\\\mvyas32\\\\Downloads\\\\data_to_train.csv', header = 0)\n",
    "data_to_train.set_index(\"Unnamed: 0\", inplace=True)\n",
    "data_to_train.head()"
   ]
  },
  {
   "cell_type": "code",
   "execution_count": 110,
   "metadata": {},
   "outputs": [],
   "source": [
    "data_to_train['CurrentRatio'].replace([np.inf, -np.inf], np.nan, inplace=True)"
   ]
  },
  {
   "cell_type": "code",
   "execution_count": 111,
   "metadata": {},
   "outputs": [
    {
     "data": {
      "text/html": [
       "<div>\n",
       "<style scoped>\n",
       "    .dataframe tbody tr th:only-of-type {\n",
       "        vertical-align: middle;\n",
       "    }\n",
       "\n",
       "    .dataframe tbody tr th {\n",
       "        vertical-align: top;\n",
       "    }\n",
       "\n",
       "    .dataframe thead th {\n",
       "        text-align: right;\n",
       "    }\n",
       "</style>\n",
       "<table border=\"1\" class=\"dataframe\">\n",
       "  <thead>\n",
       "    <tr style=\"text-align: right;\">\n",
       "      <th></th>\n",
       "      <th>YEAR</th>\n",
       "      <th>RET</th>\n",
       "      <th>Market_Cap</th>\n",
       "      <th>vol</th>\n",
       "      <th>rf</th>\n",
       "      <th>BAAFFM</th>\n",
       "      <th>Tangibility</th>\n",
       "      <th>Intangibility</th>\n",
       "      <th>M2BRatio</th>\n",
       "      <th>Debt2AssetRatio</th>\n",
       "      <th>CurrentRatio</th>\n",
       "      <th>Leverage</th>\n",
       "      <th>Bankruptcy</th>\n",
       "    </tr>\n",
       "  </thead>\n",
       "  <tbody>\n",
       "    <tr>\n",
       "      <th>count</th>\n",
       "      <td>13317.000000</td>\n",
       "      <td>13317.000000</td>\n",
       "      <td>1.331700e+04</td>\n",
       "      <td>13317.000000</td>\n",
       "      <td>13317.000000</td>\n",
       "      <td>13317.000000</td>\n",
       "      <td>13317.000000</td>\n",
       "      <td>13317.000000</td>\n",
       "      <td>13317.000000</td>\n",
       "      <td>13317.000000</td>\n",
       "      <td>13317.000000</td>\n",
       "      <td>13317.000000</td>\n",
       "      <td>13317.000000</td>\n",
       "    </tr>\n",
       "    <tr>\n",
       "      <th>mean</th>\n",
       "      <td>1997.563640</td>\n",
       "      <td>1.202376</td>\n",
       "      <td>5.752819e+08</td>\n",
       "      <td>0.755911</td>\n",
       "      <td>0.043444</td>\n",
       "      <td>3.389351</td>\n",
       "      <td>0.332518</td>\n",
       "      <td>0.109942</td>\n",
       "      <td>2.541472</td>\n",
       "      <td>0.633854</td>\n",
       "      <td>0.979653</td>\n",
       "      <td>0.461607</td>\n",
       "      <td>0.052489</td>\n",
       "    </tr>\n",
       "    <tr>\n",
       "      <th>std</th>\n",
       "      <td>10.432864</td>\n",
       "      <td>3.690694</td>\n",
       "      <td>2.755122e+09</td>\n",
       "      <td>0.519512</td>\n",
       "      <td>0.024515</td>\n",
       "      <td>1.627154</td>\n",
       "      <td>0.249345</td>\n",
       "      <td>0.203027</td>\n",
       "      <td>8.045049</td>\n",
       "      <td>0.903193</td>\n",
       "      <td>4.705832</td>\n",
       "      <td>3.670210</td>\n",
       "      <td>0.223020</td>\n",
       "    </tr>\n",
       "    <tr>\n",
       "      <th>min</th>\n",
       "      <td>1965.000000</td>\n",
       "      <td>0.000064</td>\n",
       "      <td>3.193483e+05</td>\n",
       "      <td>0.045829</td>\n",
       "      <td>0.000200</td>\n",
       "      <td>-1.005833</td>\n",
       "      <td>0.000000</td>\n",
       "      <td>-0.005174</td>\n",
       "      <td>0.000008</td>\n",
       "      <td>0.000000</td>\n",
       "      <td>0.000000</td>\n",
       "      <td>-152.283784</td>\n",
       "      <td>0.000000</td>\n",
       "    </tr>\n",
       "    <tr>\n",
       "      <th>25%</th>\n",
       "      <td>1992.000000</td>\n",
       "      <td>0.558135</td>\n",
       "      <td>2.567167e+07</td>\n",
       "      <td>0.422475</td>\n",
       "      <td>0.029850</td>\n",
       "      <td>2.255833</td>\n",
       "      <td>0.123942</td>\n",
       "      <td>0.000000</td>\n",
       "      <td>0.288276</td>\n",
       "      <td>0.373470</td>\n",
       "      <td>0.348958</td>\n",
       "      <td>0.111604</td>\n",
       "      <td>0.000000</td>\n",
       "    </tr>\n",
       "    <tr>\n",
       "      <th>50%</th>\n",
       "      <td>1999.000000</td>\n",
       "      <td>0.919127</td>\n",
       "      <td>8.280920e+07</td>\n",
       "      <td>0.630311</td>\n",
       "      <td>0.048504</td>\n",
       "      <td>2.968333</td>\n",
       "      <td>0.272685</td>\n",
       "      <td>0.019085</td>\n",
       "      <td>0.738663</td>\n",
       "      <td>0.571839</td>\n",
       "      <td>0.550242</td>\n",
       "      <td>0.391144</td>\n",
       "      <td>0.000000</td>\n",
       "    </tr>\n",
       "    <tr>\n",
       "      <th>75%</th>\n",
       "      <td>2004.000000</td>\n",
       "      <td>1.320752</td>\n",
       "      <td>3.050202e+08</td>\n",
       "      <td>0.935515</td>\n",
       "      <td>0.054015</td>\n",
       "      <td>4.765000</td>\n",
       "      <td>0.499803</td>\n",
       "      <td>0.138636</td>\n",
       "      <td>1.953134</td>\n",
       "      <td>0.762007</td>\n",
       "      <td>0.872673</td>\n",
       "      <td>0.634392</td>\n",
       "      <td>0.000000</td>\n",
       "    </tr>\n",
       "    <tr>\n",
       "      <th>max</th>\n",
       "      <td>2020.000000</td>\n",
       "      <td>215.112829</td>\n",
       "      <td>1.550000e+11</td>\n",
       "      <td>12.960526</td>\n",
       "      <td>0.136714</td>\n",
       "      <td>7.135833</td>\n",
       "      <td>0.991953</td>\n",
       "      <td>4.713805</td>\n",
       "      <td>289.962500</td>\n",
       "      <td>74.933875</td>\n",
       "      <td>383.581395</td>\n",
       "      <td>247.847015</td>\n",
       "      <td>1.000000</td>\n",
       "    </tr>\n",
       "  </tbody>\n",
       "</table>\n",
       "</div>"
      ],
      "text/plain": [
       "               YEAR           RET    Market_Cap           vol            rf  \\\n",
       "count  13317.000000  13317.000000  1.331700e+04  13317.000000  13317.000000   \n",
       "mean    1997.563640      1.202376  5.752819e+08      0.755911      0.043444   \n",
       "std       10.432864      3.690694  2.755122e+09      0.519512      0.024515   \n",
       "min     1965.000000      0.000064  3.193483e+05      0.045829      0.000200   \n",
       "25%     1992.000000      0.558135  2.567167e+07      0.422475      0.029850   \n",
       "50%     1999.000000      0.919127  8.280920e+07      0.630311      0.048504   \n",
       "75%     2004.000000      1.320752  3.050202e+08      0.935515      0.054015   \n",
       "max     2020.000000    215.112829  1.550000e+11     12.960526      0.136714   \n",
       "\n",
       "             BAAFFM   Tangibility  Intangibility      M2BRatio  \\\n",
       "count  13317.000000  13317.000000   13317.000000  13317.000000   \n",
       "mean       3.389351      0.332518       0.109942      2.541472   \n",
       "std        1.627154      0.249345       0.203027      8.045049   \n",
       "min       -1.005833      0.000000      -0.005174      0.000008   \n",
       "25%        2.255833      0.123942       0.000000      0.288276   \n",
       "50%        2.968333      0.272685       0.019085      0.738663   \n",
       "75%        4.765000      0.499803       0.138636      1.953134   \n",
       "max        7.135833      0.991953       4.713805    289.962500   \n",
       "\n",
       "       Debt2AssetRatio  CurrentRatio      Leverage    Bankruptcy  \n",
       "count     13317.000000  13317.000000  13317.000000  13317.000000  \n",
       "mean          0.633854      0.979653      0.461607      0.052489  \n",
       "std           0.903193      4.705832      3.670210      0.223020  \n",
       "min           0.000000      0.000000   -152.283784      0.000000  \n",
       "25%           0.373470      0.348958      0.111604      0.000000  \n",
       "50%           0.571839      0.550242      0.391144      0.000000  \n",
       "75%           0.762007      0.872673      0.634392      0.000000  \n",
       "max          74.933875    383.581395    247.847015      1.000000  "
      ]
     },
     "execution_count": 111,
     "metadata": {},
     "output_type": "execute_result"
    }
   ],
   "source": [
    "data_to_train = data_to_train.dropna()\n",
    "data_to_train.describe()"
   ]
  },
  {
   "cell_type": "code",
   "execution_count": 143,
   "metadata": {},
   "outputs": [],
   "source": [
    "features = ['RET','Market_Cap' ,'vol', 'rf', 'BAAFFM' , 'Profitability', 'Tangibility','M2BRatio', 'Debt2AssetRatio','CurrentRatio','Leverage']\n",
    "target = ['Bankruptcy']\n",
    "some = data_to_train.copy()"
   ]
  },
  {
   "cell_type": "code",
   "execution_count": 114,
   "metadata": {},
   "outputs": [],
   "source": [
    "X_train = some[features]\n",
    "Y_train = np.ravel(some[target])"
   ]
  },
  {
   "cell_type": "markdown",
   "metadata": {},
   "source": [
    "### Training Logistic Model and Insample Testing"
   ]
  },
  {
   "cell_type": "code",
   "execution_count": 116,
   "metadata": {},
   "outputs": [],
   "source": [
    "X_train = some[features]\n",
    "Y_train = np.ravel(some[target])\n",
    "Y_train = Y_train.reshape(-1,1)\n",
    "model = LogisticRegression(solver='newton-cg', class_weight='balanced', max_iter = 100)\n",
    "model.fit(X_train, Y_train)\n",
    "\n",
    "Y_pred = model.predict(X_train)"
   ]
  },
  {
   "cell_type": "code",
   "execution_count": 117,
   "metadata": {},
   "outputs": [
    {
     "name": "stdout",
     "output_type": "stream",
     "text": [
      "Accuracy: 0.7648118945708493\n",
      "Precision: 0.15703411333521286\n",
      "ROC score: 0.7799447890029707\n"
     ]
    },
    {
     "data": {
      "image/png": "[encoded data removed]",
      "text/plain": [
       "<Figure size 288x288 with 2 Axes>"
      ]
     },
     "metadata": {},
     "output_type": "display_data"
    }
   ],
   "source": [
    "plot_matrix_and_print_metrics(Y_train,Y_pred)"
   ]
  },
  {
   "cell_type": "markdown",
   "metadata": {},
   "source": [
    "#### Out of Sample Results"
   ]
  },
  {
   "cell_type": "code",
   "execution_count": 125,
   "metadata": {},
   "outputs": [],
   "source": [
    "train = data_to_train.copy()\n",
    "test = data_to_train.copy()\n",
    "out_of_sample_train = train[train.YEAR.between(1964, 1990)]\n",
    "out_of_sample_test = test[test.YEAR.between(1990, 2020)]"
   ]
  },
  {
   "cell_type": "code",
   "execution_count": 132,
   "metadata": {},
   "outputs": [],
   "source": [
    "X_train = out_of_sample_train[features]\n",
    "X_test = out_of_sample_test[features]\n",
    "Y_train = out_of_sample_train[target]\n",
    "Y_test = out_of_sample_test[target]\n",
    "\n",
    "model = LogisticRegression(solver='newton-cg', class_weight='balanced', max_iter = 100)\n",
    "model.fit(X_train, Y_train)\n",
    "Y_pred = model.predict(X_test)"
   ]
  },
  {
   "cell_type": "code",
   "execution_count": 133,
   "metadata": {},
   "outputs": [
    {
     "name": "stdout",
     "output_type": "stream",
     "text": [
      "Accuracy: 0.7780132694434205\n",
      "Precision: 0.17578710644677661\n",
      "ROC score: 0.7372806124155208\n"
     ]
    },
    {
     "data": {
      "image/png": "[encoded data removed]",
      "text/plain": [
       "<Figure size 288x288 with 2 Axes>"
      ]
     },
     "metadata": {},
     "output_type": "display_data"
    }
   ],
   "source": [
    "plot_matrix_and_print_metrics(Y_test,Y_pred)"
   ]
  },
  {
   "cell_type": "markdown",
   "metadata": {},
   "source": [
    "### Lasso Regression"
   ]
  },
  {
   "cell_type": "code",
   "execution_count": 160,
   "metadata": {},
   "outputs": [],
   "source": [
    "train = data_to_train.copy()\n",
    "test = data_to_train.copy()\n",
    "out_of_sample_train = train[train.YEAR.between(1964, 1990)]\n",
    "out_of_sample_test = test[test.YEAR.between(1990, 2020)]\n",
    "X_train = out_of_sample_train[features]\n",
    "X_test = out_of_sample_test[features]\n",
    "Y_train = out_of_sample_train[target]\n",
    "Y_test = out_of_sample_test[target]"
   ]
  },
  {
   "cell_type": "code",
   "execution_count": 161,
   "metadata": {},
   "outputs": [],
   "source": [
    "model = Lasso(alpha = 0.0005).fit(X_train, Y_train)\n",
    "score = model.score(X_train, Y_train)\n",
    "y_predicted = model.predict(X_test)"
   ]
  },
  {
   "cell_type": "code",
   "execution_count": 142,
   "metadata": {},
   "outputs": [
    {
     "data": {
      "text/plain": [
       "array([2.09674161e-03, 7.77755184e-13, 0.00000000e+00, 0.00000000e+00,\n",
       "       9.61893783e-04, 3.62931425e-02, 0.00000000e+00, 2.46800474e-04,\n",
       "       1.54700206e-02, 4.23869036e-04, 1.67468286e-02])"
      ]
     },
     "execution_count": 142,
     "metadata": {},
     "output_type": "execute_result"
    }
   ],
   "source": [
    "coefficients = model.coef_\n",
    "importance = np.abs(coefficients)\n",
    "importance"
   ]
  },
  {
   "cell_type": "code",
   "execution_count": 145,
   "metadata": {},
   "outputs": [],
   "source": [
    "new_features = ['RET', 'Profitability', 'BAAFFM', 'CurrentRatio', 'M2BRatio', 'Debt2AssetRatio',\n",
    "       'Leverage']"
   ]
  },
  {
   "cell_type": "code",
   "execution_count": 167,
   "metadata": {},
   "outputs": [
    {
     "name": "stdout",
     "output_type": "stream",
     "text": [
      "Accuracy: 0.9367858459270181\n",
      "Precision: 0.3157894736842105\n",
      "ROC score: 0.5037793159200036\n"
     ]
    },
    {
     "data": {
      "image/png": "[encoded data removed]",
      "text/plain": [
       "<Figure size 288x288 with 2 Axes>"
      ]
     },
     "metadata": {},
     "output_type": "display_data"
    }
   ],
   "source": [
    "X_train = out_of_sample_train[new_features]\n",
    "X_test = out_of_sample_test[new_features]\n",
    "model = LogisticRegression(solver='newton-cg', class_weight='balanced', max_iter = 100)\n",
    "model.fit(X_train, Y_train)\n",
    "Y_pred = model.predict(X_test)\n",
    "plot_matrix_and_print_metrics(Y_test,ypred)"
   ]
  },
  {
   "cell_type": "markdown",
   "metadata": {},
   "source": [
    "### Ridge Regresssion"
   ]
  },
  {
   "cell_type": "code",
   "execution_count": 169,
   "metadata": {},
   "outputs": [],
   "source": [
    "train = data_to_train.copy()\n",
    "test = data_to_train.copy()\n",
    "out_of_sample_train = train[train.YEAR.between(1964, 1990)]\n",
    "out_of_sample_test = test[test.YEAR.between(1990, 2020)]\n",
    "X_train = out_of_sample_train[features]\n",
    "X_test = out_of_sample_test[features]\n",
    "Y_train = out_of_sample_train[target]\n",
    "Y_test = out_of_sample_test[target]"
   ]
  },
  {
   "cell_type": "code",
   "execution_count": 170,
   "metadata": {},
   "outputs": [],
   "source": [
    "model = Ridge(alpha = 50).fit(X_train, Y_train)"
   ]
  },
  {
   "cell_type": "code",
   "execution_count": 171,
   "metadata": {},
   "outputs": [],
   "source": [
    "score = model.score(X_train, Y_train)\n",
    "y_predicted = model.predict(X_test)"
   ]
  },
  {
   "cell_type": "code",
   "execution_count": 172,
   "metadata": {},
   "outputs": [
    {
     "data": {
      "text/plain": [
       "Text(0.5, 1.0, 'Feature Coefficients')"
      ]
     },
     "execution_count": 172,
     "metadata": {},
     "output_type": "execute_result"
    },
    {
     "data": {
      "image/png": "[encoded data removed]",
      "text/plain": [
       "<Figure size 576x720 with 1 Axes>"
      ]
     },
     "metadata": {},
     "output_type": "display_data"
    }
   ],
   "source": [
    "coef = pd.Series(model.coef_[0], index = X_train.columns)\n",
    "imp_coef = coef.sort_values()\n",
    "imp_coef.plot(kind = \"barh\")\n",
    "plt.title(\"Feature Coefficients\")"
   ]
  },
  {
   "cell_type": "code",
   "execution_count": 174,
   "metadata": {},
   "outputs": [
    {
     "data": {
      "text/plain": [
       "array([[2.75296565e-03, 9.95441044e-13, 2.74185277e-03, 1.62460604e-03,\n",
       "        1.07514068e-03, 3.17329326e-02, 5.91278728e-03, 2.37486226e-04,\n",
       "        1.90601374e-02, 4.33495405e-04, 1.68099032e-02]])"
      ]
     },
     "execution_count": 174,
     "metadata": {},
     "output_type": "execute_result"
    }
   ],
   "source": [
    "coefficients = model.coef_\n",
    "coeffs = np.abs(coefficients)\n",
    "coeffs"
   ]
  },
  {
   "cell_type": "code",
   "execution_count": 190,
   "metadata": {},
   "outputs": [],
   "source": [
    "new_features = ['RET' ,'vol', 'rf', 'BAAFFM' , 'Profitability', 'Tangibility', 'Debt2AssetRatio','CurrentRatio','Leverage']"
   ]
  },
  {
   "cell_type": "code",
   "execution_count": 191,
   "metadata": {},
   "outputs": [
    {
     "name": "stdout",
     "output_type": "stream",
     "text": [
      "Accuracy: 0.9367858459270181\n",
      "Precision: 0.3157894736842105\n",
      "ROC score: 0.5037793159200036\n"
     ]
    },
    {
     "data": {
      "image/png": "[encoded data removed]",
      "text/plain": [
       "<Figure size 288x288 with 2 Axes>"
      ]
     },
     "metadata": {},
     "output_type": "display_data"
    }
   ],
   "source": [
    "X_train = out_of_sample_train[new_features]\n",
    "X_test = out_of_sample_test[new_features]\n",
    "model = LogisticRegression(solver='newton-cg', class_weight='balanced', max_iter = 100)\n",
    "model.fit(X_train, Y_train)\n",
    "Y_pred = model.predict(X_test)\n",
    "plot_matrix_and_print_metrics(Y_test,ypred)"
   ]
  },
  {
   "cell_type": "markdown",
   "metadata": {},
   "source": [
    "### K nearest neighbours"
   ]
  },
  {
   "cell_type": "code",
   "execution_count": 182,
   "metadata": {},
   "outputs": [],
   "source": [
    "train = data_to_train.copy()\n",
    "test = data_to_train.copy()\n",
    "out_of_sample_train = train[train.YEAR.between(1964, 1990)]\n",
    "out_of_sample_test = test[test.YEAR.between(1990, 2020)]\n",
    "X_train = out_of_sample_train[features]\n",
    "X_test = out_of_sample_test[features]\n",
    "Y_train = out_of_sample_train[target]\n",
    "Y_test = out_of_sample_test[target]"
   ]
  },
  {
   "cell_type": "code",
   "execution_count": 185,
   "metadata": {},
   "outputs": [],
   "source": [
    "k_range = range(1, 10)\n",
    "all_results = []\n",
    "for k in k_range:\n",
    "    knn = KNeighborsClassifier(n_neighbors = k)\n",
    "    knn.fit(X_train, Y_train)\n",
    "    y_pred = knn.predict(X_test)\n",
    "    all_results.append(metrics.accuracy_score(Y_test, y_pred))"
   ]
  },
  {
   "cell_type": "code",
   "execution_count": 188,
   "metadata": {},
   "outputs": [
    {
     "data": {
      "text/plain": [
       "Text(0, 0.5, 'Accuracy')"
      ]
     },
     "execution_count": 188,
     "metadata": {},
     "output_type": "execute_result"
    },
    {
     "data": {
      "image/png": "[encoded data removed]",
      "text/plain": [
       "<Figure size 576x720 with 1 Axes>"
      ]
     },
     "metadata": {},
     "output_type": "display_data"
    }
   ],
   "source": [
    "plt.plot(k_range, all_results)\n",
    "plt.xlabel(\"No. of K\")\n",
    "plt.ylabel(\"Accuracy\")"
   ]
  },
  {
   "cell_type": "code",
   "execution_count": 193,
   "metadata": {},
   "outputs": [],
   "source": [
    "knn_2 = KNeighborsClassifier(n_neighbors = 2)\n",
    "knn_2.fit(X_train, Y_train)\n",
    "y_predicted = knn_2.predict(X_test)"
   ]
  },
  {
   "cell_type": "code",
   "execution_count": 194,
   "metadata": {},
   "outputs": [
    {
     "name": "stdout",
     "output_type": "stream",
     "text": [
      "Accuracy: 0.9374308883155179\n",
      "Precision: 0.5\n",
      "ROC score: 0.5013744546300402\n"
     ]
    },
    {
     "data": {
      "image/png": "[encoded data removed]",
      "text/plain": [
       "<Figure size 288x288 with 2 Axes>"
      ]
     },
     "metadata": {},
     "output_type": "display_data"
    }
   ],
   "source": [
    "plot_matrix_and_print_metrics(Y_test,y_predicted)"
   ]
  },
  {
   "cell_type": "markdown",
   "metadata": {},
   "source": [
    "### Random Forest Survival"
   ]
  },
  {
   "cell_type": "code",
   "execution_count": 219,
   "metadata": {},
   "outputs": [
    {
     "ename": "ModuleNotFoundError",
     "evalue": "No module named 'scikitsksurv'",
     "output_type": "error",
     "traceback": [
      "\u001b[1;31m---------------------------------------------------------------------------\u001b[0m",
      "\u001b[1;31mModuleNotFoundError\u001b[0m                       Traceback (most recent call last)",
      "\u001b[1;32m<ipython-input-219-fad83c419227>\u001b[0m in \u001b[0;36m<module>\u001b[1;34m\u001b[0m\n\u001b[1;32m----> 1\u001b[1;33m \u001b[1;32mfrom\u001b[0m \u001b[0mscikitsksurv\u001b[0m\u001b[1;33m.\u001b[0m\u001b[0mensemble\u001b[0m \u001b[1;32mimport\u001b[0m \u001b[0mRandomForestSurvival\u001b[0m\u001b[1;33m\u001b[0m\u001b[1;33m\u001b[0m\u001b[0m\n\u001b[0m",
      "\u001b[1;31mModuleNotFoundError\u001b[0m: No module named 'scikitsksurv'"
     ]
    }
   ],
   "source": [
    "from scikitsksurv.ensemble import RandomForestSurvival"
   ]
  },
  {
   "cell_type": "markdown",
   "metadata": {},
   "source": [
    "### Random Forest"
   ]
  },
  {
   "cell_type": "code",
   "execution_count": 211,
   "metadata": {},
   "outputs": [],
   "source": [
    "train = data_to_train.copy()\n",
    "test = data_to_train.copy()\n",
    "out_of_sample_train = train[train.YEAR.between(1964, 1990)]\n",
    "out_of_sample_test = test[test.YEAR.between(1990, 2020)]\n",
    "X_train = out_of_sample_train[features]\n",
    "X_test = out_of_sample_test[features]\n",
    "Y_train = out_of_sample_train[target]\n",
    "Y_test = out_of_sample_test[target]"
   ]
  },
  {
   "cell_type": "code",
   "execution_count": 196,
   "metadata": {},
   "outputs": [
    {
     "name": "stdout",
     "output_type": "stream",
     "text": [
      "Fitting 3 folds for each of 12 candidates, totalling 36 fits\n"
     ]
    },
    {
     "data": {
      "text/plain": [
       "GridSearchCV(cv=3, estimator=RandomForestClassifier(), n_jobs=-1,\n",
       "             param_grid={'max_depth': [5, 10, 20],\n",
       "                         'n_estimators': [200, 400, 600, 1000]},\n",
       "             verbose=2)"
      ]
     },
     "execution_count": 196,
     "metadata": {},
     "output_type": "execute_result"
    }
   ],
   "source": [
    "param_grid = {'n_estimators': [200,400, 600, 1000],\n",
    "               'max_depth': [5,10,20]}\n",
    "\n",
    "rf = RandomForestClassifier()\n",
    "rf_grid = GridSearchCV(estimator = rf, param_grid = param_grid, \n",
    "                          cv = 3, n_jobs = -1, verbose = 2)\n",
    "rf_grid.fit(X_train, Y_train)"
   ]
  },
  {
   "cell_type": "code",
   "execution_count": 197,
   "metadata": {},
   "outputs": [
    {
     "data": {
      "text/plain": [
       "{'max_depth': 5, 'n_estimators': 400}"
      ]
     },
     "execution_count": 197,
     "metadata": {},
     "output_type": "execute_result"
    }
   ],
   "source": [
    "rf_grid.best_params_"
   ]
  },
  {
   "cell_type": "code",
   "execution_count": 212,
   "metadata": {},
   "outputs": [
    {
     "name": "stdout",
     "output_type": "stream",
     "text": [
      "Accuracy: 0.9367858459270181\n",
      "Precision: 0.3157894736842105\n",
      "ROC score: 0.5037793159200036\n"
     ]
    },
    {
     "data": {
      "image/png": "[encoded data removed]",
      "text/plain": [
       "<Figure size 288x288 with 2 Axes>"
      ]
     },
     "metadata": {},
     "output_type": "display_data"
    }
   ],
   "source": [
    "model = RandomForestClassifier(n_estimators = 400, random_state = 42,max_depth=5)\n",
    "model.fit(X_train, Y_train)\n",
    "Y_pred = model.predict(X_test)\n",
    "plot_matrix_and_print_metrics(Y_test,ypred)"
   ]
  },
  {
   "cell_type": "code",
   "execution_count": 220,
   "metadata": {},
   "outputs": [],
   "source": [
    "from xgboost import XGBClassifier\n",
    "from lightgbm import LGBMClassifier\n",
    "from sklearn.model_selection import StratifiedKFold"
   ]
  },
  {
   "cell_type": "code",
   "execution_count": null,
   "metadata": {},
   "outputs": [],
   "source": [
    "model = XGBClassifier()\n",
    "    \n",
    "param_grid = dict(n_estimators=[100,200,300])\n",
    "kfold = StratifiedKFold(n_splits=3, shuffle=True, random_state=7)\n",
    "\n",
    "grid_search = GridSearchCV(model, param_grid, scoring=\"neg_log_loss\", n_jobs=-1, cv=kfold)\n",
    "grid_result = grid_search.fit(X_train, Y_train)\n",
    "y_pred = grid_search.predict(X_test.values)\n"
   ]
  },
  {
   "cell_type": "markdown",
   "metadata": {},
   "source": [
    "### Articial Neural Network"
   ]
  },
  {
   "cell_type": "code",
   "execution_count": null,
   "metadata": {},
   "outputs": [],
   "source": [
    "from keras.models import Sequential\n",
    "from keras.layers import Dense\n",
    "\n",
    "from xgboost import XGBClassifier\n",
    "from lightgbm import LGBMClassifier\n",
    "from sklearn.model_selection import StratifiedKFold"
   ]
  },
  {
   "cell_type": "code",
   "execution_count": null,
   "metadata": {},
   "outputs": [],
   "source": [
    "input_length = len(X_train.columns)\n",
    "model = Sequential()\n",
    "model.add(Dense(10, input_dim=input_length, activation='sigmoid'))\n",
    "model.add(Dense(5, activation='sigmoid'))\n",
    "model.add(Dense(1, activation='sigmoid'))"
   ]
  }
 ],
 "metadata": {
  "kernelspec": {
   "display_name": "Python 3",
   "language": "python",
   "name": "python3"
  },
  "language_info": {
   "codemirror_mode": {
    "name": "ipython",
    "version": 3
   },
   "file_extension": ".py",
   "mimetype": "text/x-python",
   "name": "python",
   "nbconvert_exporter": "python",
   "pygments_lexer": "ipython3",
   "version": "3.6.5"
  }
 },
 "nbformat": 4,
 "nbformat_minor": 2
}
